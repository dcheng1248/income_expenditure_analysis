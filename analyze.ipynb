{
 "cells": [
  {
   "cell_type": "code",
   "execution_count": 57,
   "metadata": {},
   "outputs": [],
   "source": [
    "import PyPDF2\n",
    "import numpy as np\n",
    "import pandas as pd"
   ]
  },
  {
   "cell_type": "code",
   "execution_count": 135,
   "metadata": {},
   "outputs": [],
   "source": [
    "def read_statement(page):\n",
    "    text = page.extract_text()\n",
    "    if not 'Bank Statement Nr.' in text:\n",
    "        return pd.DataFrame(columns = [\"Merchant\", \"Category\", \"Date\", \"Amount\"])\n",
    "    # get date of statement\n",
    "    lines = text.split(\"\\n\")\n",
    "    date = lines[4].split()[1]\n",
    "\n",
    "    # remove first 5 lines of text and reassemble text\n",
    "    lines = lines[6:]\n",
    "    text = '\\n'.join(lines)\n",
    "\n",
    "    # find entry of each income or expenditure\n",
    "    entries = [i for i in text.split(\"€\") if i]\n",
    "    entries = [list(filter(None,i.split(\"\\n\"))) for i in entries if i]\n",
    "    entries = entries[:-1]\n",
    "\n",
    "    # remove movement between spaces\n",
    "    remove_list = []\n",
    "    for entry in entries:\n",
    "        if len(entry) < 3:\n",
    "            remove_list.append(entry)\n",
    "    for entry in remove_list:\n",
    "        entries.remove(entry)\n",
    "\n",
    "    #  remove irrelevant information and parse transaction date and amount\n",
    "    for entry in entries:\n",
    "        if entry[1].startswith('Mastercard • '):\n",
    "            entry[1] = entry[1].replace('Mastercard • ','')\n",
    "        for item in entry[2:]:\n",
    "            if not item.startswith('Value Date '):\n",
    "                entry.remove(item)\n",
    "        entry[2] = entry[2][21:]\n",
    "        splitted = entry[2].split()\n",
    "        entry.pop(2)\n",
    "        entry.append(splitted[0])\n",
    "        entry.append(splitted[1])\n",
    "        entry[3] = entry[3].replace('.','')\n",
    "        entry[3] = entry[3].replace(',','.')\n",
    "        entry[3] = entry[3].replace('+','')\n",
    "        if len(entry) != 4:\n",
    "            print(entry)\n",
    "\n",
    "    # now only 4 columns are left, merchant/payee, category, date and amount\n",
    "    # add to pandas\n",
    "    entries = np.array(entries)\n",
    "    df = pd.DataFrame(entries, columns = [\"Merchant\", \"Category\", \"Date\", \"Amount\"])\n",
    "    df[\"Amount\"] = df[\"Amount\"].astype('float')\n",
    "\n",
    "    return(df)"
   ]
  },
  {
   "cell_type": "code",
   "execution_count": null,
   "metadata": {},
   "outputs": [],
   "source": [
    "reader = PyPDF2.PdfReader(\"statement-2023-09.pdf\")\n",
    "df = pd.DataFrame(columns = [\"Merchant\", \"Category\", \"Date\", \"Amount\"])\n",
    "for page in reader.pages:\n",
    "    df = pd.concat([df, read_statement(page)])\n",
    "\n",
    "# fix some category assignment issues\n",
    "df.loc[df[\"Merchant\"].str.contains('STEAMGAMES'), \"Category\"] = 'Games'\n",
    "df.loc[df[\"Merchant\"].str.contains('APPLE'), \"Category\"] = 'Games'\n",
    "df.loc[df[\"Merchant\"].str.contains('AMAZON'), \"Category\"] = 'Amazon'\n",
    "df.loc[df[\"Merchant\"].str.contains('UBER \\*EATS'), \"Category\"] = 'Bars & Restaurants'\n",
    "\n",
    "# summarize income\n",
    "income = df[df[\"Amount\"] > 0]\n",
    "summary_income = income.groupby(\"Merchant\", as_index = False).agg({\"Amount\": sum})\n",
    "total_income = income[\"Amount\"].sum()\n",
    "\n",
    "# summarize expenditure\n",
    "expenditure = df[df[\"Amount\"] < 0]\n",
    "total_expenditure = -expenditure[\"Amount\"].sum()\n",
    "summary_expenditure = expenditure.groupby(\"Category\", as_index = False).sum()[[\"Category\", \"Amount\"]]\n",
    "summary_expenditure[\"Amount\"] = -summary_expenditure[\"Amount\"]"
   ]
  },
  {
   "cell_type": "code",
   "execution_count": null,
   "metadata": {},
   "outputs": [],
   "source": [
    "print(\"Total income:\", total_income)\n",
    "print(\"Breakdown:\")\n",
    "print(summary_income)\n",
    "print()\n",
    "print(\"Total expenditure:\", total_expenditure)\n",
    "print(\"Breakdown:\")\n",
    "print(summary_expenditure)\n",
    "print()\n",
    "\n",
    "category = \"Direct Debits\"\n",
    "print(\"Expenditures from category\", category)\n",
    "print(expenditure[expenditure[\"Category\"] == category])\n",
    "\n"
   ]
  }
 ],
 "metadata": {
  "kernelspec": {
   "display_name": "Python 3",
   "language": "python",
   "name": "python3"
  },
  "language_info": {
   "codemirror_mode": {
    "name": "ipython",
    "version": 3
   },
   "file_extension": ".py",
   "mimetype": "text/x-python",
   "name": "python",
   "nbconvert_exporter": "python",
   "pygments_lexer": "ipython3",
   "version": "3.10.13"
  },
  "orig_nbformat": 4
 },
 "nbformat": 4,
 "nbformat_minor": 2
}
